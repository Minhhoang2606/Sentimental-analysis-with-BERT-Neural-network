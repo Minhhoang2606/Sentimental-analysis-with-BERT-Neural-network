{
 "cells": [
  {
   "cell_type": "markdown",
   "id": "49c3f651-5b8d-43bd-8f7d-09e0fdd8a34a",
   "metadata": {},
   "source": [
    "## 1. Install and import dependencies"
   ]
  },
  {
   "cell_type": "code",
   "execution_count": 104,
   "id": "9265fc2b-57e7-4356-b9ca-6676b4ca0908",
   "metadata": {
    "tags": []
   },
   "outputs": [],
   "source": [
    "from transformers import AutoTokenizer, AutoModelForSequenceClassification\n",
    "import torch\n",
    "import requests\n",
    "from bs4 import BeautifulSoup\n",
    "import re"
   ]
  },
  {
   "cell_type": "markdown",
   "id": "bf1011f0-e237-4e0a-b620-9b2e0b9a20c1",
   "metadata": {},
   "source": [
    "## 2. Instantiate the model"
   ]
  },
  {
   "cell_type": "code",
   "execution_count": 106,
   "id": "64fe6717-232e-46ea-a7d3-d19e132f3278",
   "metadata": {
    "tags": []
   },
   "outputs": [],
   "source": [
    "tokenizer = AutoTokenizer.from_pretrained(\"nlptown/bert-base-multilingual-uncased-sentiment\") # Can also try with 'https://www.yelp.com/biz/social-brew-cafe-pyrmont'\n",
    "model = AutoModelForSequenceClassification.from_pretrained('nlptown/bert-base-multilingual-uncased-sentiment')"
   ]
  },
  {
   "cell_type": "markdown",
   "id": "951f4012-6f65-4a95-9331-06d688aa318c",
   "metadata": {},
   "source": [
    "## 3. Encode and calculate sentiment score"
   ]
  },
  {
   "cell_type": "code",
   "execution_count": 108,
   "id": "6af387e2-287a-4814-9f67-9ed41dc2dbd3",
   "metadata": {
    "tags": []
   },
   "outputs": [],
   "source": [
    "tokens = tokenizer.encode(\"I hate this, this is the worst\", return_tensors='pt')"
   ]
  },
  {
   "cell_type": "code",
   "execution_count": 109,
   "id": "1c7b9283-49a5-4ef8-96f5-667348902e65",
   "metadata": {
    "tags": []
   },
   "outputs": [
    {
     "data": {
      "text/plain": [
       "tensor([[  101,   151, 39487, 10372,   117, 10372, 10127, 10103, 43060,   102]])"
      ]
     },
     "execution_count": 109,
     "metadata": {},
     "output_type": "execute_result"
    }
   ],
   "source": [
    "tokens"
   ]
  },
  {
   "cell_type": "code",
   "execution_count": 110,
   "id": "c2d76964-1670-40e9-96f8-9427ea6590a9",
   "metadata": {},
   "outputs": [
    {
     "data": {
      "text/plain": [
       "tensor([  101,   151, 39487, 10372,   117, 10372, 10127, 10103, 43060,   102])"
      ]
     },
     "execution_count": 110,
     "metadata": {},
     "output_type": "execute_result"
    }
   ],
   "source": [
    "tokens[0] # decoding test"
   ]
  },
  {
   "cell_type": "code",
   "execution_count": 111,
   "id": "ff2e7f4a-db40-4c10-8f0a-98d5ec8ef9ef",
   "metadata": {
    "tags": []
   },
   "outputs": [
    {
     "data": {
      "text/plain": [
       "'[CLS] i hate this, this is the worst [SEP]'"
      ]
     },
     "execution_count": 111,
     "metadata": {},
     "output_type": "execute_result"
    }
   ],
   "source": [
    "tokenizer.decode(tokens[0]) # encoding test"
   ]
  },
  {
   "cell_type": "code",
   "execution_count": 112,
   "id": "ca819b3d-a278-4705-a677-aa4fbb0e7f55",
   "metadata": {
    "tags": []
   },
   "outputs": [],
   "source": [
    "result = model(tokens)"
   ]
  },
  {
   "cell_type": "code",
   "execution_count": 113,
   "id": "a6ebbb66-99e1-465f-9cc7-70ff17a62b04",
   "metadata": {
    "tags": []
   },
   "outputs": [
    {
     "data": {
      "text/plain": [
       "SequenceClassifierOutput(loss=None, logits=tensor([[ 4.9954,  1.5542, -0.9295, -2.9246, -1.8990]],\n",
       "       grad_fn=<AddmmBackward0>), hidden_states=None, attentions=None)"
      ]
     },
     "execution_count": 113,
     "metadata": {},
     "output_type": "execute_result"
    }
   ],
   "source": [
    "result     "
   ]
  },
  {
   "cell_type": "markdown",
   "id": "60064c04-8701-4eee-a3b4-6878b4fc926d",
   "metadata": {},
   "source": [
    "Understand result: \n",
    "- The output from the model is a one-hot ecoded list of scores. \n",
    "- The position with the highest score represents the sentiment of the text.  "
   ]
  },
  {
   "cell_type": "code",
   "execution_count": 115,
   "id": "0ba50808-c371-4e41-abfe-846d74fee29b",
   "metadata": {
    "tags": []
   },
   "outputs": [
    {
     "data": {
      "text/plain": [
       "tensor(1)"
      ]
     },
     "execution_count": 115,
     "metadata": {},
     "output_type": "execute_result"
    }
   ],
   "source": [
    "torch.argmax(result.logits)+1"
   ]
  },
  {
   "cell_type": "code",
   "execution_count": 116,
   "id": "1be2c1d2-c2be-4fd9-a4ae-fbf3ad86e069",
   "metadata": {
    "tags": []
   },
   "outputs": [],
   "source": [
    "# Another example\n",
    "tokens = tokenizer.encode(\"It was good but could have been better\", return_tensors='pt')"
   ]
  },
  {
   "cell_type": "code",
   "execution_count": 158,
   "id": "9c349741-58d7-4db6-a64a-965a65d3bfb2",
   "metadata": {
    "tags": []
   },
   "outputs": [],
   "source": [
    "# Calculate the sentiment\n",
    "result = model(tokens)"
   ]
  },
  {
   "cell_type": "code",
   "execution_count": 162,
   "id": "008f90a4-dad3-4f0f-962d-17fe4038c229",
   "metadata": {
    "tags": []
   },
   "outputs": [
    {
     "data": {
      "text/plain": [
       "SequenceClassifierOutput(loss=None, logits=tensor([[-1.9994,  0.0689,  2.2148,  1.2780, -1.3454]],\n",
       "       grad_fn=<AddmmBackward0>), hidden_states=None, attentions=None)"
      ]
     },
     "execution_count": 162,
     "metadata": {},
     "output_type": "execute_result"
    }
   ],
   "source": [
    "# Extract the sentiment score\n",
    "result "
   ]
  },
  {
   "cell_type": "code",
   "execution_count": 119,
   "id": "4a08cb6d-c855-495a-a23c-1a6fe9a1e7a0",
   "metadata": {
    "tags": []
   },
   "outputs": [
    {
     "data": {
      "text/plain": [
       "tensor(3)"
      ]
     },
     "execution_count": 119,
     "metadata": {},
     "output_type": "execute_result"
    }
   ],
   "source": [
    "torch.argmax(result.logits)+1"
   ]
  },
  {
   "cell_type": "markdown",
   "id": "a5c62ea6-bae3-48af-8250-559628901476",
   "metadata": {},
   "source": [
    "## 4. Collect Reviews"
   ]
  },
  {
   "cell_type": "code",
   "execution_count": 137,
   "id": "53639c41-8228-472b-bf45-cf12d311af22",
   "metadata": {
    "tags": []
   },
   "outputs": [],
   "source": [
    "r = requests.get('https://www.yelp.com/biz/mejico-sydney-2') # Assign the result of the GET request to `r`\n",
    "soup = BeautifulSoup(r.text, 'html.parser') # Parse the content with BeautifulSoup\n",
    "regex = re.compile('.*comment.*') # Compile the regex for finding elements with 'comment' in their class names\n",
    "results = soup.find_all('p', attrs={'class':regex}) # 'p' stands for paragraph\n",
    "reviews = [result.text for result in results]"
   ]
  },
  {
   "cell_type": "code",
   "execution_count": 139,
   "id": "eb0bed42-f93f-488e-9d29-b95e467cf050",
   "metadata": {
    "tags": []
   },
   "outputs": [
    {
     "data": {
      "text/plain": [
       "\"Seated without a booking on a super busy Saturday night. Lovely, warm, and Theo right hostess also looked after our table and went out of her way to give detailed ingredients in every dish to avoid allergies for one of us. And the food was great! Guacamole made right at our table, everything prepared with our allergies in mind, and great dish recommendations. We'd been visiting Sydney for about a week from Melbourne, and this was by far our best dining experience. I'd definitely return here in the future.\""
      ]
     },
     "execution_count": 139,
     "metadata": {},
     "output_type": "execute_result"
    }
   ],
   "source": [
    "results[0].text # Just get the text, not the HTML tag"
   ]
  },
  {
   "cell_type": "markdown",
   "id": "bb5dd994-df91-4137-846c-658da9554b84",
   "metadata": {},
   "source": [
    "## 5. Load reviews into dataframe and score"
   ]
  },
  {
   "cell_type": "code",
   "execution_count": 144,
   "id": "32293998-78f5-4032-b0f6-1286a7751512",
   "metadata": {
    "tags": []
   },
   "outputs": [],
   "source": [
    "import pandas as pd\n",
    "import numpy as np"
   ]
  },
  {
   "cell_type": "code",
   "execution_count": 150,
   "id": "4b5e4518-7111-4e54-a57b-3d7757ea6bdb",
   "metadata": {
    "tags": []
   },
   "outputs": [],
   "source": [
    "df = pd.DataFrame(np.array(reviews), columns=['review'])"
   ]
  },
  {
   "cell_type": "code",
   "execution_count": 152,
   "id": "fc09e7b9-ebfa-47a5-8a2d-c665685c6a35",
   "metadata": {
    "tags": []
   },
   "outputs": [
    {
     "data": {
      "text/html": [
       "<div>\n",
       "<style scoped>\n",
       "    .dataframe tbody tr th:only-of-type {\n",
       "        vertical-align: middle;\n",
       "    }\n",
       "\n",
       "    .dataframe tbody tr th {\n",
       "        vertical-align: top;\n",
       "    }\n",
       "\n",
       "    .dataframe thead th {\n",
       "        text-align: right;\n",
       "    }\n",
       "</style>\n",
       "<table border=\"1\" class=\"dataframe\">\n",
       "  <thead>\n",
       "    <tr style=\"text-align: right;\">\n",
       "      <th></th>\n",
       "      <th>review</th>\n",
       "    </tr>\n",
       "  </thead>\n",
       "  <tbody>\n",
       "    <tr>\n",
       "      <th>0</th>\n",
       "      <td>Seated without a booking on a super busy Satur...</td>\n",
       "    </tr>\n",
       "    <tr>\n",
       "      <th>1</th>\n",
       "      <td>The food was decent not great..  We had the gu...</td>\n",
       "    </tr>\n",
       "    <tr>\n",
       "      <th>2</th>\n",
       "      <td>Food was okay, guacamole was below average. Se...</td>\n",
       "    </tr>\n",
       "    <tr>\n",
       "      <th>3</th>\n",
       "      <td>The food and service here was really good.  It...</td>\n",
       "    </tr>\n",
       "    <tr>\n",
       "      <th>4</th>\n",
       "      <td>Visiting from Texas and decided to give this r...</td>\n",
       "    </tr>\n",
       "  </tbody>\n",
       "</table>\n",
       "</div>"
      ],
      "text/plain": [
       "                                              review\n",
       "0  Seated without a booking on a super busy Satur...\n",
       "1  The food was decent not great..  We had the gu...\n",
       "2  Food was okay, guacamole was below average. Se...\n",
       "3  The food and service here was really good.  It...\n",
       "4  Visiting from Texas and decided to give this r..."
      ]
     },
     "execution_count": 152,
     "metadata": {},
     "output_type": "execute_result"
    }
   ],
   "source": [
    "df.head()"
   ]
  },
  {
   "cell_type": "code",
   "execution_count": 154,
   "id": "03769551-67e3-4802-8163-f48560b5089f",
   "metadata": {
    "tags": []
   },
   "outputs": [
    {
     "data": {
      "text/plain": [
       "\"Seated without a booking on a super busy Saturday night. Lovely, warm, and Theo right hostess also looked after our table and went out of her way to give detailed ingredients in every dish to avoid allergies for one of us. And the food was great! Guacamole made right at our table, everything prepared with our allergies in mind, and great dish recommendations. We'd been visiting Sydney for about a week from Melbourne, and this was by far our best dining experience. I'd definitely return here in the future.\""
      ]
     },
     "execution_count": 154,
     "metadata": {},
     "output_type": "execute_result"
    }
   ],
   "source": [
    "df['review'].iloc[0]"
   ]
  },
  {
   "cell_type": "code",
   "execution_count": 156,
   "id": "2d4f87af-4a81-4fd0-b401-57b21f1d42b4",
   "metadata": {
    "tags": []
   },
   "outputs": [],
   "source": [
    "def sentiment_score(review):\n",
    "    tokens = tokenizer.encode(review, return_tensors='pt')\n",
    "    result = model(tokens)\n",
    "    return torch.argmax(result.logits)+1"
   ]
  },
  {
   "cell_type": "code",
   "execution_count": 164,
   "id": "9ee7c53d-01e6-4d6b-bd6e-94fbf2fb412a",
   "metadata": {
    "tags": []
   },
   "outputs": [
    {
     "data": {
      "text/plain": [
       "tensor(2)"
      ]
     },
     "execution_count": 164,
     "metadata": {},
     "output_type": "execute_result"
    }
   ],
   "source": [
    "sentiment_score(df['review'].iloc[1])"
   ]
  },
  {
   "cell_type": "code",
   "execution_count": 166,
   "id": "5a42c86b-d3b6-4587-8341-3e3c67158956",
   "metadata": {
    "tags": []
   },
   "outputs": [],
   "source": [
    "# Calculate the sentiment score for all reviews and store in a new column in the dataframe\n",
    "df['sentiment'] = df['review'].apply(lambda x: sentiment_score(x[:512])) # loop thro|ugh each review "
   ]
  },
  {
   "cell_type": "code",
   "execution_count": 168,
   "id": "b1868eba-9bb1-4d56-a457-906059afed9d",
   "metadata": {
    "tags": []
   },
   "outputs": [
    {
     "data": {
      "text/html": [
       "<div>\n",
       "<style scoped>\n",
       "    .dataframe tbody tr th:only-of-type {\n",
       "        vertical-align: middle;\n",
       "    }\n",
       "\n",
       "    .dataframe tbody tr th {\n",
       "        vertical-align: top;\n",
       "    }\n",
       "\n",
       "    .dataframe thead th {\n",
       "        text-align: right;\n",
       "    }\n",
       "</style>\n",
       "<table border=\"1\" class=\"dataframe\">\n",
       "  <thead>\n",
       "    <tr style=\"text-align: right;\">\n",
       "      <th></th>\n",
       "      <th>review</th>\n",
       "      <th>sentiment</th>\n",
       "    </tr>\n",
       "  </thead>\n",
       "  <tbody>\n",
       "    <tr>\n",
       "      <th>0</th>\n",
       "      <td>Seated without a booking on a super busy Satur...</td>\n",
       "      <td>tensor(5)</td>\n",
       "    </tr>\n",
       "    <tr>\n",
       "      <th>1</th>\n",
       "      <td>The food was decent not great..  We had the gu...</td>\n",
       "      <td>tensor(2)</td>\n",
       "    </tr>\n",
       "    <tr>\n",
       "      <th>2</th>\n",
       "      <td>Food was okay, guacamole was below average. Se...</td>\n",
       "      <td>tensor(2)</td>\n",
       "    </tr>\n",
       "    <tr>\n",
       "      <th>3</th>\n",
       "      <td>The food and service here was really good.  It...</td>\n",
       "      <td>tensor(5)</td>\n",
       "    </tr>\n",
       "    <tr>\n",
       "      <th>4</th>\n",
       "      <td>Visiting from Texas and decided to give this r...</td>\n",
       "      <td>tensor(5)</td>\n",
       "    </tr>\n",
       "    <tr>\n",
       "      <th>5</th>\n",
       "      <td>Don't come here expecting legit Mexican food b...</td>\n",
       "      <td>tensor(3)</td>\n",
       "    </tr>\n",
       "    <tr>\n",
       "      <th>6</th>\n",
       "      <td>Out of all the restaurants that I tried in Syd...</td>\n",
       "      <td>tensor(5)</td>\n",
       "    </tr>\n",
       "    <tr>\n",
       "      <th>7</th>\n",
       "      <td>Great atmosphere, attentive service, solid mar...</td>\n",
       "      <td>tensor(3)</td>\n",
       "    </tr>\n",
       "    <tr>\n",
       "      <th>8</th>\n",
       "      <td>We came here on a Thursday night @ 5pm and by ...</td>\n",
       "      <td>tensor(4)</td>\n",
       "    </tr>\n",
       "    <tr>\n",
       "      <th>9</th>\n",
       "      <td>The food is fresh and tasty.  The scallop cevi...</td>\n",
       "      <td>tensor(4)</td>\n",
       "    </tr>\n",
       "  </tbody>\n",
       "</table>\n",
       "</div>"
      ],
      "text/plain": [
       "                                              review  sentiment\n",
       "0  Seated without a booking on a super busy Satur...  tensor(5)\n",
       "1  The food was decent not great..  We had the gu...  tensor(2)\n",
       "2  Food was okay, guacamole was below average. Se...  tensor(2)\n",
       "3  The food and service here was really good.  It...  tensor(5)\n",
       "4  Visiting from Texas and decided to give this r...  tensor(5)\n",
       "5  Don't come here expecting legit Mexican food b...  tensor(3)\n",
       "6  Out of all the restaurants that I tried in Syd...  tensor(5)\n",
       "7  Great atmosphere, attentive service, solid mar...  tensor(3)\n",
       "8  We came here on a Thursday night @ 5pm and by ...  tensor(4)\n",
       "9  The food is fresh and tasty.  The scallop cevi...  tensor(4)"
      ]
     },
     "execution_count": 168,
     "metadata": {},
     "output_type": "execute_result"
    }
   ],
   "source": [
    "df"
   ]
  },
  {
   "cell_type": "code",
   "execution_count": 170,
   "id": "16d9bee3-5647-4431-bb13-b1bcbbbd2c40",
   "metadata": {
    "tags": []
   },
   "outputs": [
    {
     "data": {
      "text/plain": [
       "'The food and service here was really good.  It was more like tapas food than Mexican food!  The drinks were amazing too!'"
      ]
     },
     "execution_count": 170,
     "metadata": {},
     "output_type": "execute_result"
    }
   ],
   "source": [
    "df['review'].iloc[3]"
   ]
  },
  {
   "cell_type": "code",
   "execution_count": null,
   "id": "b66af93c-b40b-45c8-8eac-0c0eb915a962",
   "metadata": {},
   "outputs": [],
   "source": []
  }
 ],
 "metadata": {
  "kernelspec": {
   "display_name": "Python 3 (ipykernel)",
   "language": "python",
   "name": "python3"
  },
  "language_info": {
   "codemirror_mode": {
    "name": "ipython",
    "version": 3
   },
   "file_extension": ".py",
   "mimetype": "text/x-python",
   "name": "python",
   "nbconvert_exporter": "python",
   "pygments_lexer": "ipython3",
   "version": "3.11.7"
  },
  "toc-autonumbering": false
 },
 "nbformat": 4,
 "nbformat_minor": 5
}
